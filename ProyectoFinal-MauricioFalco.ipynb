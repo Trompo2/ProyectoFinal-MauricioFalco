{
 "cells": [
  {
   "cell_type": "markdown",
   "id": "291d129b-76fd-4c06-a42a-b05e5572ba3b",
   "metadata": {},
   "source": [
    "# Trabajo Final: Chatbot escolar interactivo"
   ]
  },
  {
   "cell_type": "markdown",
   "id": "73efea9f-7986-4793-a0fe-189a63d20941",
   "metadata": {},
   "source": [
    "# Resumen"
   ]
  },
  {
   "cell_type": "markdown",
   "id": "8bacce0d-fa6e-4bf6-9cdf-fd23d6b85bc4",
   "metadata": {},
   "source": [
    "El proyecto desarrolla un chatbot escolar para la asignatura de Educación Tecnológica, utilizando IA para ofrecer respuestas instantáneas y personalizadas a estudiantes. Mejora el acceso a información educativa y fomenta la autonomía, integrando tecnología avanzada en el aprendizaje. Su implementación se basa en colaboración docente, asegurando relevancia y precisión en el contenido educativo proporcionado."
   ]
  },
  {
   "cell_type": "markdown",
   "id": "5ef55ba7-30b6-45cc-bb69-3053703eca55",
   "metadata": {},
   "source": [
    "# Índice"
   ]
  },
  {
   "cell_type": "markdown",
   "id": "fb9daff6-007e-4bf2-9ba4-6a668674400b",
   "metadata": {},
   "source": [
    "1. Introducción\n",
    "2. Objetivos\n",
    "3. Metodología\n",
    "4. Herramientas y Tecnologías\n",
    "5. Implementación\n",
    "6. Resultados\n",
    "7. Conclusiones\n",
    "8. Referencias"
   ]
  },
  {
   "cell_type": "markdown",
   "id": "6d8752b0-c556-4a20-8c31-c490695d5e14",
   "metadata": {},
   "source": [
    "# 1. Introducción"
   ]
  },
  {
   "cell_type": "markdown",
   "id": "217f5528-20e4-405c-9a92-9b24d5f17cdd",
   "metadata": {},
   "source": [
    "El acceso equitativo a una educación de calidad representa uno de los desafíos más significativos en el ámbito tecnológico educativo contemporáneo. En este contexto, el proyecto \"Chatbot escolar interactivo\" surge como una iniciativa innovadora destinada a abordar la necesidad imperante de ofrecer a los estudiantes un acceso constante y personalizado a recursos educativos, especialmente fuera del horario escolar. La educación tecnológica, siendo una disciplina en constante evolución, requiere de herramientas que no solo faciliten la comprensión de conceptos complejos a través de medios dinámicos y adaptativos, sino que también promuevan la autonomía y el autoaprendizaje en los estudiantes.\n",
    "\n",
    "La problemática central que aborda este proyecto radica en la limitada disponibilidad de recursos educativos personalizados y accesibles en tiempo real para los alumnos. Esta situación se ve agravada por la demanda de respuestas rápidas a consultas específicas y el acceso a material de estudio actualizado, elementos críticos para un aprendizaje efectivo y significativo en el ámbito de la educación tecnológica.\n",
    "\n",
    "La justificación del proyecto se centra en la potencialidad de las tecnologías de inteligencia artificial para revolucionar la experiencia educativa, permitiendo el desarrollo de un chatbot que ofrezca respuestas inmediatas y contextualizadas a las consultas de los estudiantes. A través del uso de modelos de IA de texto-texto y texto-imagen, este chatbot busca superar las barreras de acceso a la información educativa, proporcionando un recurso innovador que mejore la interacción de los alumnos con los contenidos del curso, ejercicios prácticos y aspectos culturales relevantes.\n",
    "\n",
    "El alcance del proyecto incluye el diseño, desarrollo e implementación de un chatbot escolar interactivo que funcione como un asistente educativo para la asignatura de Educación Tecnológica. Este asistente será capaz de responder preguntas, generar contenido educativo visual y textual personalizado, y facilitar un entorno de aprendizaje más inclusivo, dinámico y adaptativo. Mediante la colaboración con el personal docente para la curación del contenido y el uso de tecnologías de IA accesibles, este proyecto no solo aspira a enriquecer la experiencia de aprendizaje de los estudiantes, sino también a establecer un precedente en la integración de soluciones tecnológicas avanzadas en el ámbito educativo."
   ]
  },
  {
   "cell_type": "markdown",
   "id": "953e69b3-e97c-4e17-8b16-dce9f4a54416",
   "metadata": {},
   "source": [
    "# 2. Objetivos"
   ]
  },
  {
   "cell_type": "markdown",
   "id": "7222d9f3-37ea-4595-9b03-4d577c2606e0",
   "metadata": {},
   "source": [
    "Desarrollar un chatbot interactivo para la asignatura de Educación Tecnológica que utilice modelos de inteligencia artificial de texto-texto y texto-imagen para responder a consultas de estudiantes de manera precisa y en tiempo real. Este desarrollo tiene como fin último facilitar el acceso a información educativa relevante y actualizada, así como a recursos didácticos personalizados.\n",
    "\n",
    "Mejorar la accesibilidad y la personalización de la educación tecnológica para los estudiantes, garantizando que puedan acceder a recursos educativos adaptados a sus necesidades individuales en cualquier momento y lugar. Esto implica no solo la disponibilidad de respuestas a preguntas específicas sino también la generación de contenido visual que complemente la comprensión de conceptos complejos.\n",
    "\n",
    "Promover la autonomía y el autoaprendizaje en los estudiantes, incentivándolos a explorar y profundizar en los contenidos del curso de manera independiente. El chatbot debe ser una herramienta que fomente la curiosidad y la iniciativa personal, permitiendo a los estudiantes dirigir su propio proceso de aprendizaje.\n",
    "\n",
    "Integrar la tecnología de inteligencia artificial en el entorno educativo, demostrando la viabilidad y los beneficios de utilizar estas herramientas en la enseñanza y el aprendizaje. Este objetivo incluye la colaboración con docentes para el desarrollo de contenido y la adaptación del chatbot a las necesidades curriculares específicas de la asignatura.\n",
    "\n",
    "Objetivos Secundarios\n",
    "\n",
    "Evaluar la efectividad del chatbot escolar a través de pruebas piloto y feedback continuo de estudiantes y docentes, con el fin de realizar ajustes que mejoren su funcionalidad, precisión y utilidad en el proceso educativo.\n",
    "\n",
    "Fomentar la innovación educativa en la asignatura de Educación Tecnológica, estableciendo un modelo para la incorporación de futuras herramientas tecnológicas que enriquezcan la experiencia de aprendizaje.\n",
    "\n",
    "Preparar a los estudiantes para el futuro tecnológico, proporcionándoles experiencias de aprendizaje que integren el uso de inteligencia artificial y otras tecnologías avanzadas, preparándolos así para los desafíos y oportunidades del mañana."
   ]
  },
  {
   "cell_type": "markdown",
   "id": "15f4a54d-099b-49cb-868b-9e77c2fb39a1",
   "metadata": {},
   "source": [
    "# 3. Metodología"
   ]
  },
  {
   "cell_type": "markdown",
   "id": "f2057bfa-9d24-41ee-80ed-b2d2d257139d",
   "metadata": {},
   "source": [
    "- **Identificación de Necesidades**: Colaboración con educadores para comprender las demandas educativas y definir los objetivos específicos del chatbot.\n",
    "- **Desarrollo del Chatbot**: Aplicación de tecnologías de IA para crear el chatbot, enfocándose en modelos de texto-texto y texto-imagen para el procesamiento de consultas y generación de respuestas. Además, se utilizó la biblioteca Pandas para el manejo y análisis de datos educativos.\n",
    "- **Entrenamiento y Ajuste**: Utilización de datos educativos para entrenar al chatbot, seguido de pruebas piloto para recolectar feedback y realizar mejoras continuas basadas en las observaciones de estudiantes y docentes. Se utilizó Pandas para organizar y analizar los datos recolectados durante las pruebas piloto, lo que permitió identificar patrones y tendencias en las interacciones entre los estudiantes y el chatbot."
   ]
  },
  {
   "cell_type": "markdown",
   "id": "a11ba1bc-b745-40cf-99ab-7c24e6b0caff",
   "metadata": {},
   "source": [
    "# 4. Herramientas y Tecnologías"
   ]
  },
  {
   "cell_type": "markdown",
   "id": "e4e10c32-1054-4ddf-b34a-0b988bb11725",
   "metadata": {},
   "source": [
    "- **Python\n",
    "- **OpenAI GPT-4 API\n",
    "- **OpenAI DALL-E API"
   ]
  },
  {
   "cell_type": "markdown",
   "id": "99a45099-8f02-4f53-8d92-428a18e79c51",
   "metadata": {},
   "source": [
    "# Código"
   ]
  },
  {
   "cell_type": "code",
   "execution_count": null,
   "id": "fe6f4659-a300-4b32-b1ee-88663ad6f218",
   "metadata": {},
   "outputs": [],
   "source": [
    "import openai\n",
    "import pandas as pd\n",
    "\n",
    "# Clave de API de OpenAI\n",
    "openai.api_key = ''\n",
    "\n",
    "# DataFrame con preguntas y respuestas comunes sobre electromagnetismo\n",
    "preguntas_comunes = {\n",
    "    'Pregunta': [\n",
    "        '¿Qué es el electromagnetismo?',\n",
    "        '¿Quién descubrió la inducción electromagnética?',\n",
    "        '¿Qué es la ley de Ohm?',\n",
    "        '¿Qué es la resistencia eléctrica?',\n",
    "        '¿Qué es la corriente eléctrica?',\n",
    "        '¿Qué es la diferencia de potencial?',\n",
    "        '¿Qué es la carga eléctrica?',\n",
    "        '¿Qué es un circuito eléctrico?',\n",
    "        '¿Qué es la potencia eléctrica?',\n",
    "        '¿Qué es la energía eléctrica?',\n",
    "        '¿Qué es un campo magnético?',\n",
    "        '¿Qué es un imán?',\n",
    "        '¿Qué es la fuerza electromagnética?',\n",
    "        '¿Qué es la ley de Faraday?',\n",
    "        '¿Qué es la ley de Ampere?',\n",
    "        '¿Qué es la ley de Lenz?',\n",
    "        '¿Qué es la ley de Coulomb?',\n",
    "        '¿Qué es la ley de Gauss?',\n",
    "        '¿Qué es el efecto Hall?',\n",
    "        '¿Qué es la inducción mutua?',\n",
    "        '¿Qué es la autoinducción?',\n",
    "        '¿Qué es la capacitancia?',\n",
    "        '¿Qué es la inductancia?',\n",
    "        '¿Qué es la impedancia?',\n",
    "        '¿Qué es la reactancia?',\n",
    "        '¿Qué es la resonancia?',\n",
    "        '¿Qué es la frecuencia?',\n",
    "        '¿Qué es la amplitud?',\n",
    "        '¿Qué es la longitud de onda?',\n",
    "        '¿Qué es la velocidad de la luz?',\n",
    "        '¿Qué es el espectro electromagnético?',\n",
    "        '¿Qué son las ondas de radio?',\n",
    "        '¿Qué son las microondas?',\n",
    "        '¿Qué es la luz visible?',\n",
    "        '¿Qué son los rayos X?',\n",
    "        '¿Qué son los rayos gamma?',\n",
    "        '¿Qué es la radiación ionizante?',\n",
    "        '¿Qué es la radiación no ionizante?',\n",
    "        '¿Qué es la radiación ultravioleta?',\n",
    "        '¿Qué es la radiación infrarroja?'\n",
    "    ],\n",
    "    'Respuesta': [\n",
    "        'El electromagnetismo es una rama de la física que estudia los fenómenos eléctricos y magnéticos, así como su interrelación.',\n",
    "        'La inducción electromagnética fue descubierta por Michael Faraday en 1831.',\n",
    "        'La ley de Ohm establece que la corriente eléctrica que circula por un conductor es directamente proporcional a la diferencia de potencial aplicada e inversamente proporcional a la resistencia del conductor.',\n",
    "        'La resistencia eléctrica es la oposición que presenta un conductor al paso de la corriente eléctrica.',\n",
    "        'La corriente eléctrica es el flujo de carga eléctrica a través de un material conductor.',\n",
    "        'La diferencia de potencial es la diferencia de energía potencial eléctrica entre dos puntos en un circuito eléctrico.',\n",
    "        'La carga eléctrica es una propiedad física de la materia que hace que algunos objetos se atraigan o se repelan entre sí.',\n",
    "        'Un circuito eléctrico es un camino cerrado por el que fluye la corriente eléctrica.',\n",
    "        'La potencia eléctrica es la tasa a la que se transfiere energía eléctrica a un circuito.',\n",
    "        'La energía eléctrica es la energía derivada del movimiento de las cargas eléctricas.',\n",
    "        'Un campo magnético es una región del espacio en la que existe una fuerza magnética ejercida por un imán o una corriente eléctrica.',\n",
    "        'Un imán es un objeto que produce un campo magnético y ejerce una fuerza de atracción o repulsión sobre otros objetos magnéticos.',\n",
    "        'La fuerza electromagnética es una de las cuatro fuerzas fundamentales de la naturaleza, responsable de las interacciones entre partículas cargadas eléctricamente.',\n",
    "        'La ley de Faraday establece que un campo magnético variable en el tiempo induce un campo eléctrico.',\n",
    "        'La ley de Ampere establece que una corriente eléctrica produce un campo magnético.',\n",
    "        'La ley de Lenz establece que la dirección de la corriente inducida en un circuito es tal que se opone a la causa que la produce.',\n",
    "        'La ley de Coulomb establece que la fuerza eléctrica entre dos cargas puntuales es directamente proporcional al producto de sus cargas e inversamente proporcional al cuadrado de la distancia entre ellas.',\n",
    "        'La ley de Gauss establece que el flujo eléctrico a través de una superficie cerrada es proporcional a la carga eléctrica encerrada por la superficie.',\n",
    "        'El efecto Hall es la aparición de un campo eléctrico perpendicular a un conductor por el que fluye una corriente eléctrica en presencia de un campo magnético perpendicular.',\n",
    "        'La inducción mutua es el proceso por el cual un cambio en la corriente en un circuito induce una corriente en otro circuito cercano.',\n",
    "        'La autoinducción es el proceso por el cual un cambio en la corriente en un circuito induce una corriente en el mismo circuito.',\n",
    "        'La capacitancia es la propiedad de un circuito eléctrico que permite almacenar carga eléctrica.',\n",
    "        'La inductancia es la propiedad de un circuito eléctrico que se opone a los cambios en la corriente eléctrica.',\n",
    "        'La impedancia es la oposición que presenta un circuito eléctrico al paso de la corriente alterna.',\n",
    "        'La reactancia es la oposición que presenta un circuito eléctrico al paso de la corriente alterna debido a su inductancia o capacitancia.',\n",
    "        'La resonancia es el fenómeno por el cual un circuito eléctrico oscila a una frecuencia determinada.',\n",
    "        'La frecuencia es el número de ciclos completos de una onda por unidad de tiempo.',\n",
    "        'La amplitud es la magnitud máxima de una onda.',\n",
    "        'La longitud de onda es la distancia entre dos puntos correspondientes de una onda que se repiten en el espacio.',\n",
    "        'La velocidad de la luz es la velocidad a la que se propagan las ondas electromagnéticas en el vacío.',\n",
    "        'El espectro electromagnético es el rango de todas las posibles frecuencias de radiación electromagnética.',\n",
    "        'Las ondas de radio son ondas electromagnéticas con frecuencias inferiores a 300 GHz.',\n",
    "        'Las microondas son ondas electromagnéticas con frecuencias entre 300 MHz y 300 GHz.',\n",
    "        'La luz visible es la parte del espectro electromagnético que puede ser percibida por el ojo humano.',\n",
    "        'Los rayos X son ondas electromagnéticas con frecuencias entre 30 PHz y 30 EHz.',\n",
    "        'Los rayos gamma son ondas electromagnéticas con frecuencias superiores a 30 EHz.',\n",
    "        'La radiación ionizante es la radiación electromagnética con suficiente energía para ionizar átomos y moléculas.',\n",
    "        'La radiación no ionizante es la radiación electromagnética que no tiene suficiente energía para ionizar átomos y moléculas.',\n",
    "        'La radiación ultravioleta es la radiación electromagnética con longitudes de onda entre 10 nm y 400 nm.',\n",
    "        'La radiación infrarroja es la radiación electromagnética con longitudes de onda entre 700 nm y 1 mm.'\n",
    "    ]\n",
    "}\n",
    "\n",
    "df = pd.DataFrame(preguntas_comunes)\n",
    "\n",
    "# Contenido de la unidad\n",
    "contenido = \"\"\"El electromagnetismo es una rama de la física que estudia los fenómenos eléctricos y magnéticos, así como su interrelación. La electricidad es un fenómeno físico que se produce por el movimiento de cargas eléctricas, mientras que el magnetismo es un fenómeno que se produce por el movimiento de cargas eléctricas o por el espín de partículas subatómicas.\n",
    "\n",
    "La comprensión de estos fenómenos se ha desarrollado a lo largo de siglos de investigación científica, con contribuciones significativas de figuras como Michael Faraday y James Clerk Maxwell. Faraday descubrió la inducción electromagnética, que es el proceso por el cual un campo magnético variable en el tiempo induce un campo eléctrico. Maxwell, por su parte, desarrolló las ecuaciones que describen cómo los campos eléctricos y magnéticos interactúan entre sí y con la materia.\n",
    "\n",
    "Las variables eléctricas son las magnitudes físicas que se utilizan para describir los fenómenos eléctricos. Algunas de las variables eléctricas más importantes son la corriente eléctrica, la diferencia de potencial, la resistencia, la potencia y la energía eléctrica. La corriente eléctrica es el flujo de carga eléctrica a través de un material conductor, mientras que la diferencia de potencial es la diferencia de energía potencial eléctrica entre dos puntos en un circuito eléctrico. La resistencia es la oposición que presenta un conductor al paso de la corriente eléctrica, mientras que la potencia eléctrica es la tasa a la que se transfiere energía eléctrica a un circuito. La energía eléctrica es la energía derivada del movimiento de las cargas eléctricas.\n",
    "\n",
    "Los circuitos eléctricos son caminos cerrados por los que fluye la corriente eléctrica. Los circuitos eléctricos pueden ser simples o complejos, dependiendo del número de componentes que contengan y de la forma en que estén conectados. Los componentes básicos de un circuito eléctrico son una fuente de energía, un conductor y una carga. La fuente de energía suministra la energía eléctrica necesaria para que la corriente fluya a través del circuito, mientras que el conductor proporciona un camino para que la corriente fluya. La carga es el componente que utiliza la energía eléctrica para realizar un trabajo útil, como encender una bombilla o hacer funcionar un motor.\"\"\"\n",
    "\n",
    "# Conversación inicial\n",
    "conversacion = [\n",
    "    {\"role\": \"system\", \"content\": contenido},\n",
    "]\n",
    "\n",
    "while True:\n",
    "    # Tecnito pregunta\n",
    "    accion_usuario = input(\"¿Quieres hacer una pregunta, necesitas una imagen o quieres salir? (p/i/s): \").lower()\n",
    "\n",
    "    if accion_usuario == 'p':\n",
    "        # Solicita al usuario hacer una pregunta sobre electromagnetismo\n",
    "        pregunta_usuario = input(\"Soy Tecnito, pregúntame lo que quieras sobre electromagnetismo: \")\n",
    "\n",
    "        # Buscar en el DataFrame para ver si la pregunta del usuario coincide con alguna pregunta común\n",
    "        coincidencia = df[df['Pregunta'].str.lower() == pregunta_usuario.lower()]\n",
    "\n",
    "        if not coincidencia.empty:\n",
    "            # Si se encuentra una coincidencia, devolver la respuesta correspondiente\n",
    "            respuesta = coincidencia.iloc[0]['Respuesta']\n",
    "            print(\"_\" * 80)\n",
    "            print(respuesta)\n",
    "        else:\n",
    "            # Si no se encuentra una coincidencia, enviar la pregunta al modelo de OpenAI\n",
    "            conversacion.append({\"role\": \"user\", \"content\": pregunta_usuario})\n",
    "            try:\n",
    "                # Realiza la solicitud al modelo para obtener una respuesta textual\n",
    "                respuesta = openai.ChatCompletion.create(\n",
    "                    model=\"gpt-3.5-turbo\",\n",
    "                    messages=conversacion,\n",
    "                    max_tokens=80\n",
    "                )\n",
    "                # Mostrar la respuesta del modelo\n",
    "                print(\"_\" * 80)\n",
    "                mensaje = respuesta.choices[0].message\n",
    "                print(\"{}\".format(mensaje['content']))\n",
    "            except Exception as e:\n",
    "                print(f\"Error al obtener respuesta del modelo: {e}\")\n",
    "\n",
    "    elif accion_usuario == 'i':\n",
    "        # Solicita al usuario especificar el tema sobre el cual generar una imagen\n",
    "        tema_imagen = input(\"Soy Tecnito, especifica el tema y dibujaré para vos: \")\n",
    "        try:\n",
    "            # Realiza la solicitud al modelo para generar una imagen\n",
    "            respuesta_imagen = openai.Image.create(\n",
    "                prompt=tema_imagen,\n",
    "                n=1,\n",
    "                size=\"512x512\"\n",
    "            )\n",
    "            # Suponiendo que la API devuelva una URL de la imagen, mostrarla\n",
    "            url_imagen = respuesta_imagen.data[0].url  # Asumir el formato de respuesta adecuado\n",
    "            print(\"Soy Tecnito y ésta es tu imagen, espero te sirva: \", url_imagen)\n",
    "        except Exception as e:\n",
    "            print(f\"Error al obtener imagen: {e}\")\n",
    "\n",
    "    elif accion_usuario == 's':\n",
    "        print(\"Chauuu, te saluda Tecnito\")\n",
    "        break\n",
    "\n",
    "    else:\n",
    "        print(\"Por favor, elige 'p' para hacer una pregunta, 'i' para obtener una imagen o 's' para salir.\")\n"
   ]
  }
 ],
 "metadata": {
  "kernelspec": {
   "display_name": "Python 3 (ipykernel)",
   "language": "python",
   "name": "python3"
  },
  "language_info": {
   "codemirror_mode": {
    "name": "ipython",
    "version": 3
   },
   "file_extension": ".py",
   "mimetype": "text/x-python",
   "name": "python",
   "nbconvert_exporter": "python",
   "pygments_lexer": "ipython3",
   "version": "3.12.2"
  }
 },
 "nbformat": 4,
 "nbformat_minor": 5
}
